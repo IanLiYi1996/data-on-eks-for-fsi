{
 "cells": [
  {
   "cell_type": "markdown",
   "id": "protected-handle",
   "metadata": {},
   "source": [
    "### <center><font color=navy>Algorithmic Trading with Python</font></center>\n",
    "### <center>Connect to a Trading API Using Python</center>\n",
    "#### <center>Ali Habibnia</center>"
   ]
  },
  {
   "cell_type": "markdown",
   "id": "e8f09ad3",
   "metadata": {},
   "source": [
    "### API技术和通信协议简介\n",
    "\n",
    "API（应用程序编程接口）和通信协议在使软件应用程序相互交互和通信中起着关键作用。它们定义了一组构建和与软件应用程序交互的规则和约定。在本简短教程中，我们将探讨API技术的主要概念，并深入了解REST API、FIX API协议4.2和Websocket等示例。\n",
    "\n",
    "#### 示例1：REST API\n",
    "\n",
    "- **定义**：REST（表现层状态转移）API是一种基于Web标准的架构，使用HTTP。它是无状态的，并利用HTTP方法，如GET、POST、PUT和DELETE。\n",
    "  \n",
    "- **用例**：REST API通常用于Web开发，以创建与数据库和其他后端服务交互的接口。\n",
    "\n",
    "- **关键点**：\n",
    "  - **无状态**：从客户端到服务器的每个HTTP请求必须包含理解和处理请求所需的所有信息。\n",
    "  - **统一接口**：通过拥有一套标准的API创建规则来简化架构。\n",
    "\n",
    "#### 示例2：FIX API协议4.2\n",
    "\n",
    "- **定义**：FIX（金融信息交换）API是一种专门为金融证券交易相关信息的实时交换而设计的通信协议。\n",
    "\n",
    "- **用例**：在金融行业广泛使用，特别是在交易平台中，用于传达订单和执行信息。\n",
    "\n",
    "- **关键点**：\n",
    "  - **实时通信**：实现快速高效的通信，这在金融交易中至关重要。\n",
    "  - **标准化**：确保金融实体之间能够以一致和可靠的方式进行通信。\n",
    "\n",
    "#### 示例3：Websocket\n",
    "\n",
    "- **定义**：Websocket是一种通信协议，提供通过单个TCP连接的全双工通信通道。\n",
    "\n",
    "- **用例**：用于需要实时双向通信的应用程序，如聊天应用、在线游戏和实时体育更新。\n",
    "\n",
    "- **关键点**：\n",
    "  - **持久连接**：与HTTP不同，Websocket允许数据的持续流动，保持客户端和服务器之间的持久连接。\n",
    "  - **实时通信**：非常适合需要实时更新和交互的应用程序。"
   ]
  },
  {
   "cell_type": "markdown",
   "id": "ff87a637",
   "metadata": {},
   "source": [
    "### 教程：使用Python在Coinbase Pro上下限价单\n",
    "\n",
    "使用Python连接到交易API通常涉及使用requests库向API端点发出HTTP请求。以下是一些一般性指导和示例代码，帮助您入门。请注意，具体细节可能会因您使用的特定API而有所不同。\n",
    "\n",
    "首先，从交易平台获取API凭证（如API密钥、秘密等）。始终参考交易平台提供的API文档，以获取有关端点、身份验证、速率限制和数据格式的具体细节。\n",
    "\n",
    "在本教程中，我们将演示如何使用Python在Coinbase Pro上下限价单。限价单允许您指定希望以何种价格买入或卖出资产，从而更好地控制执行价格。\n",
    "\n",
    "[Coinbase Pro API文档](https://docs.cloud.coinbase.com/exchange/reference)"
   ]
  },
  {
   "cell_type": "code",
   "execution_count": 2,
   "id": "union-latin",
   "metadata": {},
   "outputs": [
    {
     "data": {
      "text/plain": [
       "'\\nJavaScript Object Notation (JSON) is a standard text-based format for representing structured data\\nbased on JavaScript object syntax. It is commonly used for transmitting data in web applications\\n(e.g., sending some data from the server to the client, so it can be displayed on a web page, or vice versa).\\n'"
      ]
     },
     "execution_count": 2,
     "metadata": {},
     "output_type": "execute_result"
    }
   ],
   "source": [
    "import requests\n",
    "\n",
    "\"\"\"\n",
    "The requests module allows you to send HTTP requests using Python. The HTTP request returns a \n",
    "Response Object with all the response data (content, encoding, status, etc).\n",
    "\"\"\"\n",
    "\n",
    "import json\n",
    "\n",
    "\"\"\"\n",
    "JavaScript Object Notation (JSON) is a standard text-based format for representing structured data\n",
    "based on JavaScript object syntax. It is commonly used for transmitting data in web applications\n",
    "(e.g., sending some data from the server to the client, so it can be displayed on a web page, or vice versa).\n",
    "\"\"\""
   ]
  },
  {
   "cell_type": "markdown",
   "id": "9ece806c",
   "metadata": {},
   "source": [
    "Here's a basic example of how you might connect to a trading API using Python. For instance, to interact with the Coinbase API and place a new order using Python, you'll need to obtain your API credentials (API key, API secret, and API passphrase) from your Coinbase Pro account. Go to the API section of your Coinbase Pro account and create a new API key. You will get an API key, API secret, and API passphrase, which you will use to authenticate your requests.\n",
    "\n",
    "Request Type: In the example, a POST request is made (requests.post). Depending on the operation, you might need to use GET, PUT, DELETE, etc."
   ]
  },
  {
   "cell_type": "code",
   "execution_count": 16,
   "id": "31cd877e",
   "metadata": {},
   "outputs": [
    {
     "name": "stdout",
     "output_type": "stream",
     "text": [
      "Order placed successfully: {'id': 'a9c3e81b-0f4a-40d8-b2d7-ebf2fbfd29cc', 'price': '10000.00', 'size': '0.0005', 'product_id': 'BTC-USD', 'side': 'buy', 'stp': 'dc', 'type': 'limit', 'time_in_force': 'GTC', 'post_only': False, 'created_at': '2023-10-04T05:49:05.192918Z', 'fill_fees': '0', 'filled_size': '0', 'executed_value': '0', 'status': 'pending', 'settled': False}\n"
     ]
    }
   ],
   "source": [
    "import time\n",
    "import hmac\n",
    "import hashlib\n",
    "import base64\n",
    "import requests\n",
    "import json\n",
    "\n",
    "# Your API credentials\n",
    "API_KEY = \"8da29a53638e3951badf48920316fd4\"\n",
    "API_SECRET = \"4cfPZdXovGxOLQqfXFZIZXfaHoMpsuRdSMC0GRJQmPAreoBgeoxdy3Vj7KVhRZTgt3NU9/4BZLJDyCTUxJ9W+g==\"\n",
    "API_PASS = \"algoclass\"\n",
    "\n",
    "# API URL\n",
    "API_URL = 'https://api.pro.coinbase.com/orders'\n",
    "\n",
    "# Create a timestamp\n",
    "timestamp = str(time.time())\n",
    "\n",
    "# Request method\n",
    "method = 'POST'\n",
    "\n",
    "# Request body\n",
    "body = {\n",
    "    'size': '0.0005',  # Specify the amount of BTC you want to buy\n",
    "    'price': '10000.00',  # Specify the price at which you want to buy\n",
    "    'side': 'buy',\n",
    "    'product_id': 'BTC-USD',\n",
    "    'type': 'limit'  # Specify that this is a limit order\n",
    "}\n",
    "body_json = json.dumps(body)\n",
    "\n",
    "# Create a signature\n",
    "message = timestamp + method + '/orders' + body_json\n",
    "hmac_key = base64.b64decode(API_SECRET)\n",
    "signature = hmac.new(hmac_key, message.encode('utf-8'), hashlib.sha256)\n",
    "signature_b64 = base64.b64encode(signature.digest()).decode('utf-8')\n",
    "\n",
    "# Headers\n",
    "headers = {\n",
    "    'CB-ACCESS-KEY': API_KEY,\n",
    "    'CB-ACCESS-PASSPHRASE': API_PASS,\n",
    "    'CB-ACCESS-SIGN': signature_b64,\n",
    "    'CB-ACCESS-TIMESTAMP': timestamp,\n",
    "    'Content-Type': 'application/json'\n",
    "}\n",
    "\n",
    "# Send the request\n",
    "response = requests.post(API_URL, headers=headers, data=body_json)\n",
    "\n",
    "# Print the response\n",
    "if response.status_code == 200:\n",
    "    print('Order placed successfully:', response.json())\n",
    "else:\n",
    "    print('Failed to place order:', response.json())\n"
   ]
  },
  {
   "cell_type": "markdown",
   "id": "4e1841dd",
   "metadata": {},
   "source": [
    "Coinbase Pro为开发者和投资者提供了一个公共API，以便以编程方式与平台进行交互。以下是Coinbase Pro API中各种功能的一些端点URL：\n",
    "\n",
    "1. **获取产品：**\n",
    "   - `GET https://api.pro.coinbase.com/products`\n",
    "   \n",
    "2. **获取产品订单簿：**\n",
    "   - `GET https://api.pro.coinbase.com/products/:product-id/book`\n",
    "   \n",
    "3. **获取产品行情：**\n",
    "   - `GET https://api.pro.coinbase.com/products/:product-id/ticker`\n",
    "   \n",
    "4. **获取交易记录：**\n",
    "   - `GET https://api.pro.coinbase.com/products/:product-id/trades`\n",
    "   \n",
    "5. **获取历史汇率：**\n",
    "   - `GET https://api.pro.coinbase.com/products/:product-id/candles`\n",
    "   \n",
    "6. **获取24小时统计数据：**\n",
    "   - `GET https://api.pro.coinbase.com/products/:product-id/stats`\n",
    "   \n",
    "7. **列出账户：**\n",
    "   - `GET https://api.pro.coinbase.com/accounts`\n",
    "   \n",
    "8. **获取账户信息：**\n",
    "   - `GET https://api.pro.coinbase.com/accounts/:account-id`\n",
    "   \n",
    "9. **获取账户历史：**\n",
    "   - `GET https://api.pro.coinbase.com/accounts/:account-id/ledger`\n",
    "   \n",
    "10. **获取持有资产：**\n",
    "    - `GET https://api.pro.coinbase.com/accounts/:account-id/holds`\n",
    "   \n",
    "11. **下新订单：**\n",
    "    - `POST https://api.pro.coinbase.com/orders`\n",
    "   \n",
    "12. **取消订单：**\n",
    "    - `DELETE https://api.pro.coinbase.com/orders/:order-id`\n",
    "   \n",
    "13. **列出订单：**\n",
    "    - `GET https://api.pro.coinbase.com/orders`\n",
    "   \n",
    "14. **获取订单信息：**\n",
    "    - `GET https://api.pro.coinbase.com/orders/:order-id`\n",
    "   \n",
    "15. **列出成交记录：**\n",
    "    - `GET https://api.pro.coinbase.com/fills`\n",
    "   \n",
    "16. **列出支付方式：**\n",
    "    - `GET https://api.pro.coinbase.com/payment-methods`\n",
    "   \n",
    "17. **获取支付方式信息：**\n",
    "    - `GET https://api.pro.coinbase.com/payment-methods/:payment-method-id`\n",
    "   \n",
    "18. **Coinbase账户：**\n",
    "    - `GET https://api.pro.coinbase.com/coinbase-accounts`\n",
    "   \n",
    "19. **列出货币：**\n",
    "    - `GET https://api.pro.coinbase.com/currencies`\n",
    "   \n",
    "20. **获取服务器时间：**\n",
    "    - `GET https://api.pro.coinbase.com/time`\n",
    "\n",
    "请注意，对于需要`:product-id`的端点，您应将其替换为实际的产品ID（例如，`BTC-USD`）。同样，对于需要`:account-id`、`:order-id`或`:payment-method-id`的端点，您应将这些替换为与您的账户或订单相关的实际ID。"
   ]
  }
 ],
 "metadata": {
  "kernelspec": {
   "display_name": "Python 3 (ipykernel)",
   "language": "python",
   "name": "python3"
  },
  "language_info": {
   "codemirror_mode": {
    "name": "ipython",
    "version": 3
   },
   "file_extension": ".py",
   "mimetype": "text/x-python",
   "name": "python",
   "nbconvert_exporter": "python",
   "pygments_lexer": "ipython3",
   "version": "3.10.0"
  }
 },
 "nbformat": 4,
 "nbformat_minor": 5
}
